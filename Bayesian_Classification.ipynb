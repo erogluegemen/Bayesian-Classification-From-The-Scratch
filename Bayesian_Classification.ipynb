{
 "cells": [
  {
   "attachments": {},
   "cell_type": "markdown",
   "metadata": {},
   "source": [
    "## Bayesian Classification\n",
    "\n",
    "$$P(L | \\text{features}) = \\frac{P(\\text{features} | L) , P(L)}{P(\\text{features})}$$\n",
    "\n",
    "$$\\frac{P(L_1 \\mid \\text{features})}{P(L_2 \\mid \\text{features})} = \\frac{P(\\text{features} \\mid L_1)}{P(\\text{features} \\mid L_2)} \n",
    "\\frac{P(L_1)}{P(L_2)}$$"
   ]
  },
  {
   "cell_type": "code",
   "execution_count": 15,
   "metadata": {},
   "outputs": [],
   "source": [
    "import math\n",
    "\n",
    "class NaiveBayes:\n",
    "    def __init__(self):\n",
    "        self.classes = [] # Initialize list of classes\n",
    "        self.class_probabilities = {} # Initialize dictionary of class probabilities\n",
    "        self.class_feature_probabilities = {} # Initialize dictionary of feature probabilities given each class\n",
    "\n",
    "    def train(self, X, y):\n",
    "        self.classes = list(set(y)) # Get unique class labels from the training data\n",
    "        n_samples = len(X) # Get number of training samples\n",
    "        n_features = len(X[0]) # Get number of features in each training sample\n",
    "\n",
    "        # Compute prior probability for each class\n",
    "        for class_ in self.classes:\n",
    "            self.class_probabilities[class_] = sum([1 for label in y if label == class_]) / n_samples\n",
    "\n",
    "        # Compute conditional probability of each feature given each class\n",
    "        for class_ in self.classes:\n",
    "            self.class_feature_probabilities[class_] = {}\n",
    "            class_samples = [X[i] for i in range(n_samples) if y[i] == class_]\n",
    "            n_class_samples = len(class_samples)\n",
    "            for feature in range(n_features):\n",
    "                feature_values = [class_samples[i][feature] for i in range(n_class_samples)]\n",
    "                feature_value_counts = {}\n",
    "                for feature_value in feature_values:\n",
    "                    if feature_value not in feature_value_counts:\n",
    "                        feature_value_counts[feature_value] = 0\n",
    "                    feature_value_counts[feature_value] += 1\n",
    "                for feature_value in feature_value_counts:\n",
    "                    feature_value_counts[feature_value] /= n_class_samples\n",
    "                self.class_feature_probabilities[class_][feature] = feature_value_counts\n",
    "\n",
    "    def predict(self, X):\n",
    "        predictions = []\n",
    "        for i in range(len(X)):\n",
    "            probabilities = {class_: math.log(self.class_probabilities[class_]) for class_ in self.classes}\n",
    "            for class_ in self.classes:\n",
    "                for feature, feature_value in enumerate(X[i]):\n",
    "                    if feature_value in self.class_feature_probabilities[class_][feature]:\n",
    "                        probabilities[class_] += math.log(self.class_feature_probabilities[class_][feature][feature_value])\n",
    "            predicted_class = max(probabilities, key=probabilities.get)\n",
    "            predictions.append(predicted_class)\n",
    "        return predictions\n",
    "\n"
   ]
  },
  {
   "cell_type": "code",
   "execution_count": 17,
   "metadata": {},
   "outputs": [
    {
     "name": "stdout",
     "output_type": "stream",
     "text": [
      "Accuracy: 1.0\n"
     ]
    }
   ],
   "source": [
    "# Testing\n",
    "X_train = [[1, 'Small'], [1, 'Medium'], [1, 'Medium'], [1, 'Small'], [1, 'Small'], \n",
    "           [2, 'Small'], [2, 'Medium'], [2, 'Medium'], [2, 'Large'], [2, 'Large'],\n",
    "           [3, 'Large'], [3, 'Medium'], [3, 'Medium'], [3, 'Large'], [3, 'Large']]\n",
    "\n",
    "y_train = ['no', 'no', 'yes', 'yes', 'no', \n",
    "           'no', 'no', 'yes', 'yes', 'yes',\n",
    "           'yes', 'yes', 'yes', 'yes', 'no']\n",
    "\n",
    "X_test = [[2, 'Small'], [3, 'Medium'], [1, 'Small']]\n",
    "\n",
    "y_test = ['no', 'yes', 'no']\n",
    "\n",
    "nb = NaiveBayes()\n",
    "nb.train(X_train, y_train)\n",
    "y_pred = nb.predict(X_test)\n",
    "\n",
    "# Count the number of correct predictions by comparing the predicted labels (y_pred) to the true labels (y_test)\n",
    "num_correct = sum([1 for i in range(len(y_test)) if y_test[i] == y_pred[i]])\n",
    "accuracy = num_correct / len(y_test)\n",
    "print(f\"Accuracy: {accuracy}\")\n"
   ]
  }
 ],
 "metadata": {
  "kernelspec": {
   "display_name": "datascience",
   "language": "python",
   "name": "python3"
  },
  "language_info": {
   "codemirror_mode": {
    "name": "ipython",
    "version": 3
   },
   "file_extension": ".py",
   "mimetype": "text/x-python",
   "name": "python",
   "nbconvert_exporter": "python",
   "pygments_lexer": "ipython3",
   "version": "3.8.13"
  },
  "orig_nbformat": 4,
  "vscode": {
   "interpreter": {
    "hash": "d0b1c89e816016841cedf5fdbe32ca3459ea5d941d32dcd15ad8b1c504d281f6"
   }
  }
 },
 "nbformat": 4,
 "nbformat_minor": 2
}
